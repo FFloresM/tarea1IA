{
 "cells": [
  {
   "cell_type": "code",
   "execution_count": null,
   "metadata": {},
   "outputs": [],
   "source": [
    "class grafo:\n",
    "    def __init__(self, dicc=None):\n",
    "        if dicc==None:\n",
    "            dicc={}\n",
    "        self.dicc = dicc\n",
    "        \n",
    "    def vertices(self):\n",
    "        return self.dicc.keys()\n",
    "    \n",
    "    def aristas(self):\n",
    "        "
   ]
  },
  {
   "cell_type": "code",
   "execution_count": 27,
   "metadata": {},
   "outputs": [],
   "source": [
    "#grafo del problema\n",
    "graph = {\n",
    "    'A': {'h': 10, 'B': 11, 'C': 6},\n",
    "    'B': {'h': 7, 'D': 4, 'E': 3},\n",
    "    'C': {'h': 10, 'E': 10, 'F': 3},\n",
    "    'D': {'h': 3, 'H': 3},\n",
    "    'E': {'h': 1, 'H': 5},\n",
    "    'F': {'h': 2, 'G': 1},\n",
    "    'G': {'h': 2, 'E': 4},\n",
    "    'H': {'h': 0}\n",
    "}"
   ]
  }
 ],
 "metadata": {
  "kernelspec": {
   "display_name": "Python 3",
   "language": "python",
   "name": "python3"
  },
  "language_info": {
   "codemirror_mode": {
    "name": "ipython",
    "version": 3
   },
   "file_extension": ".py",
   "mimetype": "text/x-python",
   "name": "python",
   "nbconvert_exporter": "python",
   "pygments_lexer": "ipython3",
   "version": "3.6.7"
  }
 },
 "nbformat": 4,
 "nbformat_minor": 2
}
