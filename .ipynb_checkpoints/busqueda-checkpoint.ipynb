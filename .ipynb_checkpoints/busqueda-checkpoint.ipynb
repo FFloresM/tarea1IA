{
 "cells": [
  {
   "cell_type": "code",
   "execution_count": 1,
   "metadata": {},
   "outputs": [],
   "source": [
    "#grafo del problema\n",
    "graph = {\n",
    "    'A': {'h': 10, 'B': 11, 'C': 6},\n",
    "    'B': {'h': 7, 'D': 4, 'E': 3},\n",
    "    'C': {'h': 10, 'E': 10, 'F': 3},\n",
    "    'D': {'h': 3, 'H': 3},\n",
    "    'E': {'h': 1, 'H': 5},\n",
    "    'F': {'h': 2, 'G': 1},\n",
    "    'G': {'h': 2, 'E': 4},\n",
    "    'H': {'h': 0}\n",
    "}"
   ]
  },
  {
   "cell_type": "code",
   "execution_count": 2,
   "metadata": {},
   "outputs": [],
   "source": [
    "class grafo:\n",
    "    \"\"\"clase grafo con pesos y valor h de heurística\"\"\"\n",
    "    def __init__(self, dicc=None):\n",
    "        \"\"\"constructor: si no recibe parametros, crea grafo nulo\"\"\"\n",
    "        if dicc==None:\n",
    "            dicc={}\n",
    "        self.dicc = dicc\n",
    "        \n",
    "    def vertices(self):\n",
    "        \"\"\"devuelve los vértices (nodos) del grafo \"\"\"\n",
    "        return list(self.dicc.keys())\n",
    "    \n",
    "    def aristas(self):\n",
    "        \"\"\"devuelve las aristas (arcos) del grafo\"\"\"\n",
    "        nodos = []\n",
    "        for nodo in self.dicc:\n",
    "            for adj in self.dicc[nodo]:\n",
    "                if(nodo, adj) not in nodos and adj != 'h':\n",
    "                    nodos.append((nodo, adj))\n",
    "        return nodos\n",
    "    \n",
    "    def vecinos(self, nodo):\n",
    "        \"\"\"devuelve todos los vértices adyacentes de un nodo\"\"\"\n",
    "        if type(nodo) is not str:\n",
    "            return \"debe ingresar nombre del nodo!!! '<nodo>'\"\n",
    "        return list(x for x in self.dicc[nodo].keys() if x != 'h')\n"
   ]
  },
  {
   "cell_type": "code",
   "execution_count": 3,
   "metadata": {},
   "outputs": [
    {
     "name": "stdout",
     "output_type": "stream",
     "text": [
      "['A', 'B', 'C', 'D', 'E', 'F', 'G', 'H']\n",
      "[('A', 'B'), ('A', 'C'), ('B', 'D'), ('B', 'E'), ('C', 'E'), ('C', 'F'), ('D', 'H'), ('E', 'H'), ('F', 'G'), ('G', 'E')]\n"
     ]
    },
    {
     "data": {
      "text/plain": [
       "['B', 'C']"
      ]
     },
     "execution_count": 3,
     "metadata": {},
     "output_type": "execute_result"
    }
   ],
   "source": [
    "MiGrafo = grafo(graph)\n",
    "print(MiGrafo.vertices())\n",
    "print(MiGrafo.aristas())\n",
    "MiGrafo.vecinos('A')"
   ]
  },
  {
   "cell_type": "code",
   "execution_count": 4,
   "metadata": {},
   "outputs": [],
   "source": [
    "class busqueda():\n",
    "    \n",
    "    inf = float('Inf') #infinito\n",
    "    \n",
    "    def __init__(self, grafo):\n",
    "        self.grafo = grafo\n",
    "        self.estado = {x: False for x in grafo.vertices()} #lista de estados visitado/no visitado\n",
    "        self.padre = {x: None for x in grafo.vertices()} # padre del nodo actual\n",
    "        self.d = {x: self.inf for x in grafo.vertices()} #profundidad\n",
    "        self.f = {x: 0 for x in grafo.vertices()} #tiempo??\n",
    "        self.tiempo = 0\n",
    "        \n",
    "    def DFS(self):           \n",
    "        for i in self.grafo.vertices():\n",
    "            if(self.estado[i] == False):\n",
    "                self.DFS_VISITAR(i,self.tiempo)\n",
    "\n",
    "    def DFS_VISITAR(self, nodo, tiempo):\n",
    "        print(nodo)\n",
    "        self.estado[nodo] = True\n",
    "        self.tiempo += 1\n",
    "        self.d[nodo] = self.tiempo\n",
    "        for v in self.grafo.vecinos(nodo):\n",
    "            if self.estado[v] == False:\n",
    "                self.padre[v] = nodo\n",
    "                self.DFS_VISITAR(v,self.tiempo)\n",
    "        self.estado[nodo] = \"done\"\n",
    "        self.tiempo += 1\n",
    "        self.f[nodo] = self.tiempo"
   ]
  },
  {
   "cell_type": "code",
   "execution_count": 5,
   "metadata": {},
   "outputs": [
    {
     "name": "stdout",
     "output_type": "stream",
     "text": [
      "A\n",
      "B\n",
      "D\n",
      "H\n",
      "E\n",
      "C\n",
      "F\n",
      "G\n"
     ]
    }
   ],
   "source": [
    "b = busqueda(MiGrafo)\n",
    "b.DFS()"
   ]
  },
  {
   "cell_type": "code",
   "execution_count": 7,
   "metadata": {},
   "outputs": [
    {
     "data": {
      "text/plain": [
       "{'A': 1, 'B': 2, 'C': 10, 'D': 3, 'E': 7, 'F': 11, 'G': 12, 'H': 4}"
      ]
     },
     "execution_count": 7,
     "metadata": {},
     "output_type": "execute_result"
    }
   ],
   "source": [
    "b.d"
   ]
  }
 ],
 "metadata": {
  "kernelspec": {
   "display_name": "Python 3",
   "language": "python",
   "name": "python3"
  },
  "language_info": {
   "codemirror_mode": {
    "name": "ipython",
    "version": 3
   },
   "file_extension": ".py",
   "mimetype": "text/x-python",
   "name": "python",
   "nbconvert_exporter": "python",
   "pygments_lexer": "ipython3",
   "version": "3.6.7"
  }
 },
 "nbformat": 4,
 "nbformat_minor": 2
}
