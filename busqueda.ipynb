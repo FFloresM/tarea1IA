{
 "cells": [
  {
   "cell_type": "code",
   "execution_count": 1,
   "metadata": {},
   "outputs": [],
   "source": [
    "import random\n",
    "import queue\n",
    "#grafo del problema\n",
    "tree = {\n",
    "    'A': {'h': 10, 'B': 11, 'C': 6},\n",
    "    'B': {'h': 7, 'D': 4, 'E': 3},\n",
    "    'C': {'h': 10, 'E': 10, 'F': 3},\n",
    "    'D': {'h': 3, 'H': 3},\n",
    "    'E': {'h': 1, 'H': 5},\n",
    "    'F': {'h': 2, 'G': 1},\n",
    "    'G': {'h': 2, 'E': 4},\n",
    "    'H': {'h': 0}\n",
    "}"
   ]
  },
  {
   "cell_type": "code",
   "execution_count": 12,
   "metadata": {},
   "outputs": [],
   "source": [
    "class grafoST:\n",
    "    \"\"\"clase grafo con pesos y valor h de heurística\"\"\"\n",
    "    def __init__(self, dicc=None):\n",
    "        \"\"\"constructor: si no recibe parametros, crea grafo nulo\"\"\"\n",
    "        if dicc==None:\n",
    "            dicc={}\n",
    "        self.dicc = dicc\n",
    "        \n",
    "    def vertices(self):\n",
    "        \"\"\"devuelve los vértices (nodos) del grafo \"\"\"\n",
    "        return list(self.dicc.keys())\n",
    "    \n",
    "    def aristas(self):\n",
    "        \"\"\"devuelve las aristas (arcos) del grafo\"\"\"\n",
    "        nodos = []\n",
    "        for nodo in self.dicc:\n",
    "            for adj in self.dicc[nodo]:\n",
    "                if(nodo, adj) not in nodos and adj != 'h':\n",
    "                    nodos.append((nodo, adj))\n",
    "        return nodos\n",
    "    \n",
    "    def hijos(self, nodo):\n",
    "        \"\"\"devuelve todos los vértices adyacentes de un nodo (list)\"\"\"\n",
    "        if type(nodo) is not str:\n",
    "            return \"debe ingresar nombre del nodo!!! '<nodo>'\"\n",
    "        if nodo not in self.vertices():\n",
    "            return \"Nodo no existe\"\n",
    "        return list(x for x in self.dicc[nodo].keys() if x != 'h')\n",
    "    \n",
    "    def pesos(self, a, b):\n",
    "        \"\"\"devuelve el peso (costo) de ir desde a hasta b\"\"\"\n",
    "        return self.dicc[a][b]\n",
    "    \n",
    "    def get_h(self, nodo):\n",
    "        \"\"\"devuelve el nodo y su valor de heurística h \"\"\"\n",
    "        return self.dicc[nodo]['h'], nodo \n"
   ]
  },
  {
   "cell_type": "code",
   "execution_count": 13,
   "metadata": {},
   "outputs": [
    {
     "data": {
      "text/plain": [
       "(2, 'F')"
      ]
     },
     "execution_count": 13,
     "metadata": {},
     "output_type": "execute_result"
    }
   ],
   "source": [
    "MiGrafo = grafoST(tree)\n",
    "MiGrafo.get_h('F')"
   ]
  },
  {
   "cell_type": "code",
   "execution_count": 48,
   "metadata": {},
   "outputs": [],
   "source": [
    "class busqueda_():\n",
    "    inf = float('Inf') #infinito\n",
    "    def __init__(self, grafo, start, goal):\n",
    "        \"\"\"constructor\"\"\"\n",
    "        self.grafo = grafo\n",
    "        self.start = start\n",
    "        self.goal = goal\n",
    "        self.stack = []\n",
    "        self.stack.append(start)\n",
    "        self.estado = {x: 0 for x in grafo.vertices()}\n",
    "        self.estado[start] = 1\n",
    "        \n",
    "    def show_path(self, path):\n",
    "        \"\"\"Mostrar el camino\"\"\"\n",
    "        if path == None:\n",
    "            return \"error\"\n",
    "        for i in path:\n",
    "            if i == path[-1]:\n",
    "                print(i)\n",
    "            else:\n",
    "                print(i, end=\" -> \")\n",
    "            \n",
    "    def DFS(self):\n",
    "        \"\"\"deep first search recursivo\"\"\"\n",
    "        if self.stack[-1] == self.goal:\n",
    "            return self.stack\n",
    "        else:\n",
    "            hijos = self.grafo.hijos(self.stack[-1])\n",
    "            h = random.choice(hijos)\n",
    "            self.estado[h] += 1 \n",
    "            self.stack.append(h)\n",
    "            return self.DFS()\n",
    "    \n",
    "    def costo_camino(self, camino):\n",
    "        \"\"\"costo del camino encontrado por el algoritmo\"\"\"\n",
    "        costo = 0\n",
    "        for i in range(len(camino)-1):\n",
    "            costo += self.grafo.pesos(camino[i], camino[i+1])\n",
    "        return costo\n",
    "\n",
    "    def UCS(self):\n",
    "        nodo = self.start\n",
    "        costo = 0\n",
    "        frontera = queue.PriorityQueue()\n",
    "        frontera.put(nodo)\n",
    "        explorado = set() # set\n",
    "        while 1:\n",
    "            if frontera.empty():                    \n",
    "                return \"fallo\"\n",
    "            nodo = frontera.get()\n",
    "            if nodo == self.goal:\n",
    "                print (explorado)\n",
    "                return \"solucion\"\n",
    "            explorado.add(nodo)\n",
    "            for v in self.grafo.hijos(nodo):\n",
    "                if v not in explorado:\n",
    "                    frontera.put(v)\n",
    "            \n",
    "    def greedy(self):\n",
    "        haches = []\n",
    "        if self.stack[-1] == self.goal:\n",
    "            return self.stack\n",
    "        else:\n",
    "            n = self.stack[-1]\n",
    "            hijos = self.grafo.hijos(n)\n",
    "            for i in hijos:\n",
    "                haches.append(self.grafo.get_h(i))\n",
    "            h = min(haches)\n",
    "            self.estado[h[1]] += 1\n",
    "            self.stack.append(h[1])\n",
    "            return self.greedy()\n",
    "    \n",
    "    def Astar(self):\n",
    "        None"
   ]
  },
  {
   "cell_type": "code",
   "execution_count": 56,
   "metadata": {},
   "outputs": [
    {
     "name": "stdout",
     "output_type": "stream",
     "text": [
      "A -> C -> F -> G -> E -> H\n",
      "A -> B -> E -> H\n"
     ]
    }
   ],
   "source": [
    "b = busqueda_(MiGrafo, 'A', 'H')\n",
    "camino_dfs = b.DFS()\n",
    "b.show_path(camino_dfs)\n",
    "#print(\"costo del camino \", b.costo_camino(camino))\n",
    "d = busqueda_(MiGrafo, 'A', 'H')\n",
    "camino_greedy = d.greedy()\n",
    "d.show_path(camino_greedy)\n"
   ]
  },
  {
   "cell_type": "code",
   "execution_count": 15,
   "metadata": {},
   "outputs": [],
   "source": [
    "al = [(3,'F'), (10,'A')]\n",
    "h = min(al)"
   ]
  },
  {
   "cell_type": "code",
   "execution_count": 17,
   "metadata": {},
   "outputs": [
    {
     "data": {
      "text/plain": [
       "'F'"
      ]
     },
     "execution_count": 17,
     "metadata": {},
     "output_type": "execute_result"
    }
   ],
   "source": []
  }
 ],
 "metadata": {
  "kernelspec": {
   "display_name": "Python 3",
   "language": "python",
   "name": "python3"
  },
  "language_info": {
   "codemirror_mode": {
    "name": "ipython",
    "version": 3
   },
   "file_extension": ".py",
   "mimetype": "text/x-python",
   "name": "python",
   "nbconvert_exporter": "python",
   "pygments_lexer": "ipython3",
   "version": "3.6.7"
  }
 },
 "nbformat": 4,
 "nbformat_minor": 2
}
