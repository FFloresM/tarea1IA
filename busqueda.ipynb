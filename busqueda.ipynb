{
 "cells": [
  {
   "cell_type": "code",
   "execution_count": 1,
   "metadata": {},
   "outputs": [],
   "source": [
    "import random\n",
    "#grafo del problema\n",
    "tree = {\n",
    "    'A': {'h': 10, 'B': 11, 'C': 6},\n",
    "    'B': {'h': 7, 'D': 4, 'E': 3},\n",
    "    'C': {'h': 10, 'E': 10, 'F': 3},\n",
    "    'D': {'h': 3, 'H': 3},\n",
    "    'E': {'h': 1, 'H': 5},\n",
    "    'F': {'h': 2, 'G': 1},\n",
    "    'G': {'h': 2, 'E': 4},\n",
    "    'H': {'h': 0}\n",
    "}"
   ]
  },
  {
   "cell_type": "code",
   "execution_count": 114,
   "metadata": {},
   "outputs": [],
   "source": [
    "class grafoST:\n",
    "    \"\"\"clase grafo con pesos y valor h de heurística\"\"\"\n",
    "    def __init__(self, dicc=None):\n",
    "        \"\"\"constructor: si no recibe parametros, crea grafo nulo\"\"\"\n",
    "        if dicc==None:\n",
    "            dicc={}\n",
    "        self.dicc = dicc\n",
    "        \n",
    "    def vertices(self):\n",
    "        \"\"\"devuelve los vértices (nodos) del grafo \"\"\"\n",
    "        return list(self.dicc.keys())\n",
    "    \n",
    "    def aristas(self):\n",
    "        \"\"\"devuelve las aristas (arcos) del grafo\"\"\"\n",
    "        nodos = []\n",
    "        for nodo in self.dicc:\n",
    "            for adj in self.dicc[nodo]:\n",
    "                if(nodo, adj) not in nodos and adj != 'h':\n",
    "                    nodos.append((nodo, adj))\n",
    "        return nodos\n",
    "    \n",
    "    def hijos(self, nodo):\n",
    "        \"\"\"devuelve todos los vértices adyacentes de un nodo\"\"\"\n",
    "        if type(nodo) is not str:\n",
    "            return \"debe ingresar nombre del nodo!!! '<nodo>'\"\n",
    "        if nodo not in self.vertices():\n",
    "            return \"Nodo no existe\"\n",
    "        return list(x for x in self.dicc[nodo].keys() if x != 'h')\n",
    "    \n",
    "    def pesos(self, a, b):\n",
    "        return self.dicc[a][b]\n"
   ]
  },
  {
   "cell_type": "code",
   "execution_count": 115,
   "metadata": {},
   "outputs": [
    {
     "data": {
      "text/plain": [
       "11"
      ]
     },
     "execution_count": 115,
     "metadata": {},
     "output_type": "execute_result"
    }
   ],
   "source": [
    "MiGrafo = grafoST(tree)"
   ]
  },
  {
   "cell_type": "code",
   "execution_count": 141,
   "metadata": {},
   "outputs": [],
   "source": [
    "class busqueda_():\n",
    "    inf = float('Inf') #infinito\n",
    "    def __init__(self, grafo, start, goal): #empezar otra vez aquí\n",
    "        \"\"\"constructor\"\"\"\n",
    "        self.grafo = grafo\n",
    "        self.start = start\n",
    "        self.goal = goal\n",
    "        self.stack = []\n",
    "        self.stack.append(start)\n",
    "        self.estado = {x: 0 for x in grafo.vertices()}\n",
    "        self.estado['A'] = 1\n",
    "        \n",
    "    def show_path(self, path):\n",
    "        for i in path:\n",
    "            if i == path[-1]:\n",
    "                print(i)\n",
    "            else:\n",
    "                print(i, end=\" -> \")\n",
    "            \n",
    "        \n",
    "    def DFS(self):\n",
    "        if self.stack[-1] == self.goal:\n",
    "            return self.stack\n",
    "        else:\n",
    "            hijos = self.grafo.hijos(self.stack[-1])\n",
    "            h = random.choice(hijos)\n",
    "            self.estado[h] += 1 \n",
    "            self.stack.append(h)\n",
    "            return self.DFS()\n",
    "    \n",
    "    def costo_camino(self, camino):\n",
    "        costo = 0\n",
    "        for i in range(len(camino)-1):\n",
    "            costo += self.grafo.pesos(camino[i], camino[i+1])\n",
    "        return costo\n"
   ]
  },
  {
   "cell_type": "code",
   "execution_count": 144,
   "metadata": {},
   "outputs": [
    {
     "name": "stdout",
     "output_type": "stream",
     "text": [
      "A -> C -> F -> G -> E -> H\n",
      "costo del camino  19\n"
     ]
    },
    {
     "data": {
      "text/plain": [
       "{'A': 1, 'B': 0, 'C': 1, 'D': 0, 'E': 1, 'F': 1, 'G': 1, 'H': 1}"
      ]
     },
     "execution_count": 144,
     "metadata": {},
     "output_type": "execute_result"
    }
   ],
   "source": [
    "b = busqueda_(MiGrafo, 'A', 'H')\n",
    "camino = b.DFS()\n",
    "b.show_path(camino)\n",
    "print(\"costo del camino \", b.costo_camino(camino))\n",
    "b.estado"
   ]
  }
 ],
 "metadata": {
  "kernelspec": {
   "display_name": "Python 3",
   "language": "python",
   "name": "python3"
  },
  "language_info": {
   "codemirror_mode": {
    "name": "ipython",
    "version": 3
   },
   "file_extension": ".py",
   "mimetype": "text/x-python",
   "name": "python",
   "nbconvert_exporter": "python",
   "pygments_lexer": "ipython3",
   "version": "3.6.7"
  }
 },
 "nbformat": 4,
 "nbformat_minor": 2
}
