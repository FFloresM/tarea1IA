{
 "cells": [
  {
   "cell_type": "code",
   "execution_count": 29,
   "metadata": {},
   "outputs": [],
   "source": [
    "#grafo del problema\n",
    "graph = {\n",
    "    'A': {'h': 10, 'B': 11, 'C': 6},\n",
    "    'B': {'h': 7, 'D': 4, 'E': 3},\n",
    "    'C': {'h': 10, 'E': 10, 'F': 3},\n",
    "    'D': {'h': 3, 'H': 3},\n",
    "    'E': {'h': 1, 'H': 5},\n",
    "    'F': {'h': 2, 'G': 1},\n",
    "    'G': {'h': 2, 'E': 4},\n",
    "    'H': {'h': 0}\n",
    "}"
   ]
  },
  {
   "cell_type": "code",
   "execution_count": 30,
   "metadata": {},
   "outputs": [],
   "source": [
    "class grafo:\n",
    "    def __init__(self, dicc=None):\n",
    "        if dicc==None:\n",
    "            dicc={}\n",
    "        self.dicc = dicc\n",
    "        \n",
    "    def vertices(self):\n",
    "        return list(self.dicc.keys())\n",
    "    \n",
    "    def aristas(self):\n",
    "        nodos = []\n",
    "        for nodo in self.dicc:\n",
    "            for adj in self.dicc[nodo]:\n",
    "                if(nodo, adj) not in nodos and adj != 'h':\n",
    "                    nodos.append((nodo, adj))\n",
    "        return nodos\n",
    "    \n",
    "    def vecinos(self, nodo):\n",
    "            return list(x for x in self.dicc[nodo].keys() if x != 'h')\n",
    "            "
   ]
  },
  {
   "cell_type": "code",
   "execution_count": 32,
   "metadata": {},
   "outputs": [
    {
     "name": "stdout",
     "output_type": "stream",
     "text": [
      "['A', 'B', 'C', 'D', 'E', 'F', 'G', 'H']\n",
      "[('A', 'B'), ('A', 'C'), ('B', 'D'), ('B', 'E'), ('C', 'E'), ('C', 'F'), ('D', 'H'), ('E', 'H'), ('F', 'G'), ('G', 'E')]\n"
     ]
    },
    {
     "data": {
      "text/plain": [
       "['H']"
      ]
     },
     "execution_count": 32,
     "metadata": {},
     "output_type": "execute_result"
    }
   ],
   "source": [
    "MiGrafo = grafo(graph)\n",
    "print(MiGrafo.vertices())\n",
    "print(MiGrafo.aristas())\n",
    "MiGrafo.vecinos('E')"
   ]
  },
  {
   "cell_type": "code",
   "execution_count": 22,
   "metadata": {},
   "outputs": [],
   "source": [
    "estado = []\n",
    "padre = []\n",
    "d = [] #ni idea qué es esto\n",
    "NO_VISITADO = False\n",
    "VISITADO = True\n",
    "inf = float('Inf')\n",
    "\n",
    "def DFS(grafo):\n",
    "    for i in range(len(grafo.vertices())):\n",
    "        estado.append(NO_VISITADO)\n",
    "        padre.append(None)\n",
    "        d.append(inf)\n",
    "    tiempo = 0\n",
    "    for i in range(len(grafo.vertices())):\n",
    "        if(estado[i] == NO_VISITADO):\n",
    "            DFS_VISITAR(i,tiempo)\n",
    "\n",
    "def DFS_VISITAR(nodo, tiempo):\n",
    "    estado[nodo] = VISITADO\n",
    "    tiempo += 1\n",
    "    d[nodo] = tiempo\n",
    "    #### TERMINAR: REVISAR SI USAR ÍNDICES O LETRAS DE NODOS!!!\n",
    "    \n",
    "    "
   ]
  },
  {
   "cell_type": "code",
   "execution_count": 26,
   "metadata": {},
   "outputs": [
    {
     "data": {
      "text/plain": [
       "dict_keys(['h', 'B', 'C'])"
      ]
     },
     "execution_count": 26,
     "metadata": {},
     "output_type": "execute_result"
    }
   ],
   "source": [
    "g = {'A': {'h': 10, 'B': 11, 'C': 6}}\n",
    "g['A'].keys()"
   ]
  }
 ],
 "metadata": {
  "kernelspec": {
   "display_name": "Python 3",
   "language": "python",
   "name": "python3"
  },
  "language_info": {
   "codemirror_mode": {
    "name": "ipython",
    "version": 3
   },
   "file_extension": ".py",
   "mimetype": "text/x-python",
   "name": "python",
   "nbconvert_exporter": "python",
   "pygments_lexer": "ipython3",
   "version": "3.6.7"
  }
 },
 "nbformat": 4,
 "nbformat_minor": 2
}
